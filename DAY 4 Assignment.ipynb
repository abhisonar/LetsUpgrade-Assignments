{
 "metadata": {
  "language_info": {
   "codemirror_mode": {
    "name": "ipython",
    "version": 3
   },
   "file_extension": ".py",
   "mimetype": "text/x-python",
   "name": "python",
   "nbconvert_exporter": "python",
   "pygments_lexer": "ipython3",
   "version": "3.8.5-final"
  },
  "orig_nbformat": 2,
  "kernelspec": {
   "name": "python3",
   "display_name": "Python 3",
   "language": "python"
  }
 },
 "nbformat": 4,
 "nbformat_minor": 2,
 "cells": [
  {
   "cell_type": "code",
   "execution_count": 8,
   "metadata": {},
   "outputs": [
    {
     "output_type": "stream",
     "name": "stdout",
     "text": [
      "\nInsert at Begining\n12 -> 34 -> 22 -> \nDeletion at End\n12 -> 34 -> "
     ]
    }
   ],
   "source": [
    "#Q1. Implement deletion operation from the end of the linked list and Insertion operation from the beginning of the linked list\n",
    "class Node:\n",
    "    def __init__(self,data):\n",
    "        self.data = data\n",
    "        self.next = None\n",
    "\n",
    "class LinkedList:\n",
    "    def __init__(self):\n",
    "        self.head = None\n",
    "\n",
    "    def EmptyList():\n",
    "        if self.head == None:\n",
    "            print('LinkedList is Empty')\n",
    "            return\n",
    "    #Insert at Beginning\n",
    "    def insertBegin(self,data):\n",
    "        new = Node(data)\n",
    "        if(self.head==None): #if linked list is empty\n",
    "            self.head = new  #set head to new node\n",
    "            return\n",
    "        new.next = self.head\n",
    "        self.head = new\n",
    "        \n",
    "    #Deletion at End\n",
    "    def deleteEnd(self):\n",
    "        if self.head == None:\n",
    "            print('LinkedList is Empty')\n",
    "            return\n",
    "        temp = self.head.next\n",
    "        temp2 = self.head\n",
    "        if temp is None:\n",
    "            self.head = None\n",
    "            print('Linked List is Empty Now')\n",
    "            return\n",
    "        else:\n",
    "            while temp.next != None:\n",
    "                temp = temp.next\n",
    "                temp2 = temp2.next\n",
    "        temp2.next = None\n",
    "\n",
    "    #Display Linked List\n",
    "    def display(self):\n",
    "        if self.head == None:\n",
    "            print('LinkedList is Empty')\n",
    "            return\n",
    "        temp = self.head    #assign head to temp\n",
    "        while temp != None: \n",
    "            print(temp.data,'->', end=' ')\n",
    "            temp = temp.next\n",
    "\n",
    "li = LinkedList()\n",
    "print('\\nInsert at Begining')\n",
    "li.insertBegin(22)\n",
    "li.insertBegin(34)\n",
    "li.insertBegin(12)\n",
    "li.display()\n",
    "print('\\nDeletion at End')\n",
    "li.deleteEnd()\n",
    "li.display()\n"
   ]
  },
  {
   "cell_type": "code",
   "execution_count": 12,
   "metadata": {},
   "outputs": [
    {
     "output_type": "stream",
     "name": "stdout",
     "text": [
      "Element 20 found at index no 1\n"
     ]
    }
   ],
   "source": [
    "#Q2. Implement binary search using python language.\n",
    "def BinarySearch(arr,k):\n",
    "    low,high = 0,(len(arr)-1)\n",
    "    while low <= high:\n",
    "        mid = (low+high)//2\n",
    "        if arr[mid] < k:\n",
    "            low = mid + 1\n",
    "        elif arr[mid]  > k:\n",
    "            high = mid - 1\n",
    "        else:\n",
    "            return mid\n",
    "    return -1\n",
    "\n",
    "li = [10,20,30,40]\n",
    "k = int(input('Enter the serching element'))\n",
    "ele_index = BinarySearch(li,k)\n",
    "print('Element Not found') if ele_index == -1 else print('Element',k,'found at index no',ele_index)\n",
    "\n",
    "\n",
    "\n",
    "\n",
    "    \n",
    "\n"
   ]
  },
  {
   "cell_type": "code",
   "execution_count": 7,
   "metadata": {},
   "outputs": [
    {
     "output_type": "stream",
     "name": "stdout",
     "text": [
      "Middle of Linked List is 32\n"
     ]
    }
   ],
   "source": [
    "#Q3. Write a Python program to find the middle of a linked list.\n",
    "class Node:\n",
    "    def __init__(self,data):\n",
    "        self.data = data\n",
    "        self.next = None\n",
    "\n",
    "class LinkedList:\n",
    "    def __init__(self):\n",
    "        self.head = None\n",
    "\n",
    "    def insertBegin(self,data):\n",
    "        new = Node(data)\n",
    "        if self.head is None:\n",
    "            self.head = new\n",
    "            return\n",
    "        new.next = self.head\n",
    "        self.head = new\n",
    "    def Middle_Ele(self):\n",
    "        first = self.head\n",
    "        last = self.head\n",
    "        if self.head is not None:\n",
    "            while (last is not None and last.next is not None):\n",
    "                last = last.next.next\n",
    "                first= first.next\n",
    "            print('Middle of Linked List is',first.data)\n",
    "        else:\n",
    "            print()\n",
    "\n",
    "li = LinkedList()\n",
    "li.insertBegin(22)\n",
    "li.insertBegin(32)\n",
    "li.insertBegin(11)\n",
    "li.insertBegin(6)\n",
    "li.Middle_Ele()\n"
   ]
  }
 ]
}