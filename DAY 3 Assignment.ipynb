{
 "metadata": {
  "language_info": {
   "codemirror_mode": {
    "name": "ipython",
    "version": 3
   },
   "file_extension": ".py",
   "mimetype": "text/x-python",
   "name": "python",
   "nbconvert_exporter": "python",
   "pygments_lexer": "ipython3",
   "version": "3.8.5-final"
  },
  "orig_nbformat": 2,
  "kernelspec": {
   "name": "python3",
   "display_name": "Python 3",
   "language": "python"
  }
 },
 "nbformat": 4,
 "nbformat_minor": 2,
 "cells": [
  {
   "cell_type": "code",
   "execution_count": 20,
   "metadata": {},
   "outputs": [
    {
     "output_type": "stream",
     "name": "stdout",
     "text": [
      "Addition of 6 and 7 is  13\n"
     ]
    }
   ],
   "source": [
    "#1.Write a Python program to add two numbers using class and object.\n",
    "class Add:\n",
    "    def __init__(self,a,b):\n",
    "        self.a = a\n",
    "        self.b = b\n",
    "    def add(self):\n",
    "        return self.a + self.b\n",
    "\n",
    "x= int(input('Enter x: '))\n",
    "y= int(input('Enter y: '))\n",
    "ad = Add(x,y)\n",
    "sum = ad.add()\n",
    "print('Addition of',x,'and',y,'is ',sum)\n"
   ]
  },
  {
   "cell_type": "code",
   "execution_count": 19,
   "metadata": {},
   "outputs": [
    {
     "output_type": "stream",
     "name": "stdout",
     "text": [
      "Before Swap: a= 67 b= 34\nAfter Swap a = 34 b = 67\n"
     ]
    }
   ],
   "source": [
    "#2.Define a function swap that should swap two values and print the swapped variables outside the swap function.\n",
    "#solution 1\n",
    "def swap():\n",
    "    global a,b\n",
    "    temp = a\n",
    "    a = b\n",
    "    b = temp\n",
    "a = int(input('Enter a: '))\n",
    "b = int(input('Enter b: '))\n",
    "print('Before Swap: a=',a,'b=',b)\n",
    "swap()\n",
    "print('After Swap a =',a,'b =',b)\n",
    "\n",
    "#solution 2\n",
    "# def swap(a,b):\n",
    "#     temp = a\n",
    "#     a = b\n",
    "#     b = temp\n",
    "#     return a,b\n",
    "# a = int(input('Enter a: '))\n",
    "# b = int(input('Enter b: '))\n",
    "# print('Before Swap: a=',a,'b=',b)\n",
    "# a,b = swap(a,b)\n",
    "# print('After Swap a =',a,'b =',b)"
   ]
  }
 ]
}