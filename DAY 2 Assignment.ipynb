{
 "metadata": {
  "language_info": {
   "codemirror_mode": {
    "name": "ipython",
    "version": 3
   },
   "file_extension": ".py",
   "mimetype": "text/x-python",
   "name": "python",
   "nbconvert_exporter": "python",
   "pygments_lexer": "ipython3",
   "version": "3.8.5-final"
  },
  "orig_nbformat": 2,
  "kernelspec": {
   "name": "python3",
   "display_name": "Python 3",
   "language": "python"
  }
 },
 "nbformat": 4,
 "nbformat_minor": 2,
 "cells": [
  {
   "cell_type": "code",
   "execution_count": 18,
   "metadata": {},
   "outputs": [
    {
     "output_type": "stream",
     "name": "stdout",
     "text": [
      "List1=  [4, 5, 6]\nEven List=  [4, 6]\n"
     ]
    }
   ],
   "source": [
    "#Write a Python program to print even numbers in a list.\n",
    "List1 = [int(i) for i in input('Enter List Elements(Seperated by Space): ').split()]\n",
    "evnList = [i for i in List1 if i%2==0]\n",
    "print('List1= ',List1)\n",
    "print('Even List= ',evnList)\n"
   ]
  },
  {
   "cell_type": "code",
   "execution_count": 9,
   "metadata": {},
   "outputs": [
    {
     "output_type": "stream",
     "name": "stdout",
     "text": [
      "        1\n       22\n      333\n     4444\n    55555\n   666666\n  7777777\n 88888888\n"
     ]
    }
   ],
   "source": [
    "#Write a program to print the following pattern\n",
    "n=int(input('Enter the number: '))\n",
    "for i in range(1,n+1):\n",
    "    print(\" \"*(n-i),str(i)*i)"
   ]
  }
 ]
}